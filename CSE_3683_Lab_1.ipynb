{
  "nbformat": 4,
  "nbformat_minor": 0,
  "metadata": {
    "colab": {
      "provenance": []
    },
    "kernelspec": {
      "name": "python3",
      "display_name": "Python 3"
    },
    "language_info": {
      "name": "python"
    }
  },
  "cells": [
    {
      "cell_type": "markdown",
      "source": [
        "# CSE 3683 Lab 1\n",
        "\n",
        "The assignment for this notebook is to implement local search algorithms such as hill-climbing, random restart, and simulated annealing to perform function optimization."
      ],
      "metadata": {
        "id": "1gJY9GxJ52xY"
      }
    },
    {
      "cell_type": "code",
      "execution_count": 4,
      "metadata": {
        "id": "FvYjEg3K5wxb"
      },
      "outputs": [],
      "source": [
        "# import required libraries\n",
        "import time\n",
        "import random\n",
        "import math\n",
        "import numpy as np\n",
        "import matplotlib.pyplot as plt\n",
        "import matplotlib"
      ]
    },
    {
      "cell_type": "code",
      "source": [
        "# Create a complex objective function that we need to maximize.\n",
        "# Here, the objective function is simply defined as an equation but\n",
        "# more generally, it could represent natural phenomena, physical laws, or mathematical models\n",
        "#   X: a 2-dimensional floating-point vector consisting of an x-value and a y-value\n",
        "#   returns: a scalar floating-point value representing the output of the objective function\n",
        "def objective_function(X):\n",
        "    x = X[0]\n",
        "    y = X[1]\n",
        "    value = 3 * (1 - x) ** 2 * math.exp(-x ** 2 - (y + 1) ** 2) - 10 * (x / 5 - x ** 3 - y ** 5) * math.exp(\n",
        "        -x ** 2 - y ** 2) - (1 / 3) * math.exp(-(x + 1) ** 2 - y ** 2)\n",
        "    return value\n",
        "\n",
        "# to limit the search space for this problem, we will only consider solutions\n",
        "# where x ranges from -4 to 4 and y ranges from -4 to 4\n",
        "lower_bounds = [-4, -4]\n",
        "upper_bounds = [4, 4]"
      ],
      "metadata": {
        "id": "JUemWYtXwPtj"
      },
      "execution_count": 5,
      "outputs": []
    },
    {
      "cell_type": "code",
      "source": [
        "x = -0.1 #putting in different numbers to make it higher\n",
        "y = -0.1 #for both\n",
        "print(objective_function([x,y]))"
      ],
      "metadata": {
        "colab": {
          "base_uri": "https://localhost:8080/"
        },
        "id": "_qGoQv1A4EFR",
        "outputId": "16d50dd5-80b9-417b-e4e3-5a814db7d69b"
      },
      "execution_count": 6,
      "outputs": [
        {
          "output_type": "stream",
          "name": "stdout",
          "text": [
            "1.638096082415731\n"
          ]
        }
      ]
    },
    {
      "cell_type": "markdown",
      "source": [
        "A 3D plot of the objective function can be viewed [here](https://c3d.libretexts.org/CalcPlot3D/index.html?type=z;z=3(1-x)%5E2*exp(-x%5E2-(y+1)%5E2)-10(x/5-x%5E3-y%5E5)*exp(-x%5E2-y%5E2)-(1/3)*exp(-(x+1)%5E2-y%5E2);visible=true;umin=-4;umax=4;vmin=-4;vmax=4;grid=30;format=normal;alpha=-1;hidemyedges=true;constcol=rgb(255,0,0);view=0;contourcolor=red;fixdomain=false;contourplot=true;showcontourplot=false;firstvalue=-1;stepsize=0.2;numlevels=11;list=;uselist=false;xnum=46;ynum=46;show2d=false;hidesurface=false;hidelabels=true;showprojections=false;surfacecontours=true;projectioncolor=rgba(255,0,0,1);showxygrid=false;showxygridonbox=false;showconstraint=false&type=window;hsrmode=3;nomidpts=true;anaglyph=-1;center=-5.2487653277286155,6.815843602039553,5.098503557610455,1;focus=0,0,0,1;up=0.39284920127083023,-0.3373981166615778,0.8554718089651412,1;transparent=false;alpha=140;twoviews=false;unlinkviews=false;axisextension=0.7;xaxislabel=x;yaxislabel=y;zaxislabel=z;edgeson=true;faceson=true;showbox=true;showaxes=true;showticks=true;perspective=true;centerxpercent=0.5;centerypercent=0.5;rotationsteps=30;autospin=true;xygrid=false;yzgrid=false;xzgrid=false;gridsonbox=true;gridplanes=false;gridcolor=rgb(128,128,128);xmin=-4;xmax=4;ymin=-4;ymax=4;zmin=-4;zmax=4;xscale=2;yscale=2;zscale=2;zcmin=-8;zcmax=8;xscalefactor=1;yscalefactor=1;zscalefactor=1;tracemode=0;keep2d=false;zoom=0.89)"
      ],
      "metadata": {
        "id": "1FJvJpWP8ViK"
      }
    },
    {
      "cell_type": "code",
      "source": [
        "# Let's try to randomly generate several random inputs to the objective function\n",
        "# and manually observe how the outputs change with different inputs\n",
        "\n",
        "X = np.random.uniform(lower_bounds, upper_bounds)\n",
        "value = objective_function(X)\n",
        "print('objective_function(%.3f, %.3f) = %.3f' % (X[0], X[1], value))"
      ],
      "metadata": {
        "id": "I9JxXRNCrykL",
        "colab": {
          "base_uri": "https://localhost:8080/"
        },
        "outputId": "1ad17039-9c88-4024-ba8b-8c71e6912e27"
      },
      "execution_count": 7,
      "outputs": [
        {
          "output_type": "stream",
          "name": "stdout",
          "text": [
            "objective_function(-1.157, 0.983) = -0.451\n"
          ]
        }
      ]
    },
    {
      "cell_type": "markdown",
      "source": [
        "# Part A: Hill-climbing"
      ],
      "metadata": {
        "id": "7yG4yuY30w8F"
      }
    },
    {
      "cell_type": "code",
      "source": [
        "# TODO: Hill-climbing search algorithm: a loop that continually moves in the direction of increasing value.\n",
        "# It terminates when it reaches a “peak” where no neighbor has a higher value.\n",
        "#   objective function: function to be maximized\n",
        "#   initial_state: initial (x, y) vector\n",
        "#   step_size: numerical interval by which to change the current (x,y) state to generate a new neighboring state\n",
        "#   print_iters: set to True to print out the current value at each iteration\n",
        "#   returns: best [x, y] solution found\n",
        "def hill_climbing(objective_function, initial_state = np.array([0, 0]), step_size = 0.01, print_iters=True):\n",
        "\n",
        "  # set the starting point of the search algorithm\n",
        "  current_state = initial_state\n",
        "  current_value = objective_function(current_state)\n",
        "\n",
        "  # loop until a peak is found\n",
        "  i = 0\n",
        "  while True:\n",
        "    # Step 1: create a list of neighboring states to the current state\n",
        "    neighbors = [\n",
        "        current_state + np.array([step_size, 0]),\n",
        "        current_state - np.array([step_size, 0]),\n",
        "        current_state + np.array([0, step_size]),\n",
        "        current_state - np.array([0, step_size])\n",
        "    ]\n",
        "\n",
        "    # Step 2: calculate the objective function at each of the neighboring states\n",
        "    neighbor_values = [objective_function(n) for n in neighbors]\n",
        "\n",
        "    # Step 3: determine the highest-valued neighboring state\n",
        "    best_neighbor_idx = np.argmax(neighbor_values)\n",
        "    best_neighbor = neighbors[best_neighbor_idx]\n",
        "    best_value = neighbor_values[best_neighbor_idx]\n",
        "\n",
        "    # EXTRA CRED 1: a)First-choice hill climbing -> randomly pick a neighbor until finding a better one\n",
        "    #shuffle neighbors\n",
        "    np.random.shuffle(neighbors)\n",
        "    for neighbor in neighbors:\n",
        "        neighbor_value = objective_function(neighbor)\n",
        "        #accept first BETTER neigh\n",
        "        if neighbor_value > current_value:\n",
        "            best_neighbor = neighbor\n",
        "            best_value = neighbor_value\n",
        "            break\n",
        "\n",
        "\n",
        "    # Step 4: compare the highest value among neighboring states to the current value\n",
        "    #         if the latter is higher, we have found a peak -> return the current state\n",
        "    #         if the former is higher, assign current state to be the best neighbor state\n",
        "\n",
        "    if print_iters:\n",
        "      print('iteration: {}, current_state: {}, current_value: {}'.format(i, current_state, current_value))\n",
        "    i += 1\n",
        "\n",
        "    if best_value <= current_value:\n",
        "      break\n",
        "    current_state = best_neighbor\n",
        "    current_value = best_value\n",
        "  return current_state\n",
        "\n",
        "\n",
        "    # this break statement is added temporarily to prevent infinite loops\n",
        "    # once the exit condition in Step 4 is implemented, the break statement can be removed\n",
        "\n"
      ],
      "metadata": {
        "id": "v5nkZ-jtuUTN"
      },
      "execution_count": 36,
      "outputs": []
    },
    {
      "cell_type": "code",
      "source": [
        "hill_climbing_solution = hill_climbing(objective_function)\n",
        "print('Hill climbing solution is:', hill_climbing_solution)"
      ],
      "metadata": {
        "id": "TYxurdCYxxlT",
        "colab": {
          "base_uri": "https://localhost:8080/"
        },
        "outputId": "5462a383-2131-4615-dbd3-96a31ac39637"
      },
      "execution_count": 37,
      "outputs": [
        {
          "output_type": "stream",
          "name": "stdout",
          "text": [
            "iteration: 0, current_state: [0 0], current_value: 0.9810118431238463\n",
            "iteration: 1, current_state: [ 0.   -0.01], current_value: 1.0032064894985684\n",
            "iteration: 2, current_state: [-0.01 -0.01], current_value: 1.043242185894391\n",
            "iteration: 3, current_state: [-0.01 -0.02], current_value: 1.0661201739582875\n",
            "iteration: 4, current_state: [-0.01 -0.03], current_value: 1.0892346424891541\n",
            "iteration: 5, current_state: [-0.01 -0.04], current_value: 1.1125801030489684\n",
            "iteration: 6, current_state: [-0.01 -0.05], current_value: 1.136150470345207\n",
            "iteration: 7, current_state: [-0.01 -0.06], current_value: 1.15993894532078\n",
            "iteration: 8, current_state: [-0.02 -0.06], current_value: 1.2020837215577855\n",
            "iteration: 9, current_state: [-0.02 -0.07], current_value: 1.226527867582368\n",
            "iteration: 10, current_state: [-0.02 -0.08], current_value: 1.251174178494552\n",
            "iteration: 11, current_state: [-0.03 -0.08], current_value: 1.2940121845111747\n",
            "iteration: 12, current_state: [-0.04 -0.08], current_value: 1.3365664421159555\n",
            "iteration: 13, current_state: [-0.04 -0.09], current_value: 1.3622953414578962\n",
            "iteration: 14, current_state: [-0.05 -0.09], current_value: 1.4049240254418567\n",
            "iteration: 15, current_state: [-0.05 -0.1 ], current_value: 1.4312790546738376\n",
            "iteration: 16, current_state: [-0.05 -0.11], current_value: 1.4578035480595068\n",
            "iteration: 17, current_state: [-0.05 -0.12], current_value: 1.4844836900834162\n",
            "iteration: 18, current_state: [-0.06 -0.12], current_value: 1.5279873907032298\n",
            "iteration: 19, current_state: [-0.07 -0.12], current_value: 1.5709472627784073\n",
            "iteration: 20, current_state: [-0.07 -0.13], current_value: 1.598654528671367\n",
            "iteration: 21, current_state: [-0.07 -0.14], current_value: 1.62648507778032\n",
            "iteration: 22, current_state: [-0.08 -0.14], current_value: 1.6697006631123261\n",
            "iteration: 23, current_state: [-0.08 -0.15], current_value: 1.6980779526540564\n",
            "iteration: 24, current_state: [-0.08 -0.16], current_value: 1.726539343610624\n",
            "iteration: 25, current_state: [-0.08 -0.17], current_value: 1.7550626493100352\n",
            "iteration: 26, current_state: [-0.08 -0.18], current_value: 1.7836238654249525\n",
            "iteration: 27, current_state: [-0.09 -0.18], current_value: 1.8278892123760344\n",
            "iteration: 28, current_state: [-0.1  -0.18], current_value: 1.8713540474097508\n",
            "iteration: 29, current_state: [-0.11 -0.18], current_value: 1.9139358107293658\n",
            "iteration: 30, current_state: [-0.11 -0.19], current_value: 1.9438286699805647\n",
            "iteration: 31, current_state: [-0.11 -0.2 ], current_value: 1.9737045834343832\n",
            "iteration: 32, current_state: [-0.12 -0.2 ], current_value: 2.016199704131649\n",
            "iteration: 33, current_state: [-0.13 -0.2 ], current_value: 2.057649487701279\n",
            "iteration: 34, current_state: [-0.13 -0.21], current_value: 2.0883553180211547\n",
            "iteration: 35, current_state: [-0.14 -0.21], current_value: 2.129119155532186\n",
            "iteration: 36, current_state: [-0.15 -0.21], current_value: 2.1686817911834573\n",
            "iteration: 37, current_state: [-0.15 -0.22], current_value: 2.200183864161285\n",
            "iteration: 38, current_state: [-0.16 -0.22], current_value: 2.238907456612308\n",
            "iteration: 39, current_state: [-0.16 -0.23], current_value: 2.2707337358454787\n",
            "iteration: 40, current_state: [-0.16 -0.24], current_value: 2.3024104461488015\n",
            "iteration: 41, current_state: [-0.17 -0.24], current_value: 2.340659357842782\n",
            "iteration: 42, current_state: [-0.17 -0.25], current_value: 2.372586450017351\n",
            "iteration: 43, current_state: [-0.18 -0.25], current_value: 2.409852002110029\n",
            "iteration: 44, current_state: [-0.19 -0.25], current_value: 2.445626320324401\n",
            "iteration: 45, current_state: [-0.2  -0.25], current_value: 2.4798421428642405\n",
            "iteration: 46, current_state: [-0.21 -0.25], current_value: 2.512434528510635\n",
            "iteration: 47, current_state: [-0.21 -0.26], current_value: 2.54589140878343\n",
            "iteration: 48, current_state: [-0.21 -0.27], current_value: 2.5790813535738524\n",
            "iteration: 49, current_state: [-0.22 -0.27], current_value: 2.610868884100494\n",
            "iteration: 50, current_state: [-0.23 -0.27], current_value: 2.640910603040613\n",
            "iteration: 51, current_state: [-0.23 -0.28], current_value: 2.674675125591388\n",
            "iteration: 52, current_state: [-0.23 -0.29], current_value: 2.708084762868341\n",
            "iteration: 53, current_state: [-0.24 -0.29], current_value: 2.737212507010902\n",
            "iteration: 54, current_state: [-0.24 -0.3 ], current_value: 2.7706665401466646\n",
            "iteration: 55, current_state: [-0.24 -0.31], current_value: 2.8036689078388912\n",
            "iteration: 56, current_state: [-0.24 -0.32], current_value: 2.8361675133843858\n",
            "iteration: 57, current_state: [-0.24 -0.33], current_value: 2.8681085497216734\n",
            "iteration: 58, current_state: [-0.25 -0.33], current_value: 2.8971872236188942\n",
            "iteration: 59, current_state: [-0.26 -0.33], current_value: 2.9243608494415505\n",
            "iteration: 60, current_state: [-0.26 -0.34], current_value: 2.956606713811096\n",
            "iteration: 61, current_state: [-0.26 -0.35], current_value: 2.988187598596976\n",
            "iteration: 62, current_state: [-0.26 -0.36], current_value: 3.0190450669017115\n",
            "iteration: 63, current_state: [-0.26 -0.37], current_value: 3.0491193047703335\n",
            "iteration: 64, current_state: [-0.27 -0.37], current_value: 3.0762032053239143\n",
            "iteration: 65, current_state: [-0.28 -0.37], current_value: 3.101294002173547\n",
            "iteration: 66, current_state: [-0.28 -0.38], current_value: 3.131475067745293\n",
            "iteration: 67, current_state: [-0.28 -0.39], current_value: 3.1607562347606137\n",
            "iteration: 68, current_state: [-0.28 -0.4 ], current_value: 3.189074286301252\n",
            "iteration: 69, current_state: [-0.28 -0.41], current_value: 3.2163650703935343\n",
            "iteration: 70, current_state: [-0.28 -0.42], current_value: 3.24256362368067\n",
            "iteration: 71, current_state: [-0.29 -0.42], current_value: 3.268056537750358\n",
            "iteration: 72, current_state: [-0.3  -0.42], current_value: 3.2914878638913505\n",
            "iteration: 73, current_state: [-0.3  -0.43], current_value: 3.3175334385445536\n",
            "iteration: 74, current_state: [-0.31 -0.43], current_value: 3.3393731151409116\n",
            "iteration: 75, current_state: [-0.31 -0.44], current_value: 3.364717731129701\n",
            "iteration: 76, current_state: [-0.31 -0.45], current_value: 3.3887856861878456\n",
            "iteration: 77, current_state: [-0.31 -0.46], current_value: 3.4115103535272944\n",
            "iteration: 78, current_state: [-0.31 -0.47], current_value: 3.432824988500378\n",
            "iteration: 79, current_state: [-0.31 -0.48], current_value: 3.4526628777625215\n",
            "iteration: 80, current_state: [-0.31 -0.49], current_value: 3.470957491497796\n",
            "iteration: 81, current_state: [-0.31 -0.5 ], current_value: 3.4876426382631367\n",
            "iteration: 82, current_state: [-0.31 -0.51], current_value: 3.5026526219973793\n",
            "iteration: 83, current_state: [-0.32 -0.51], current_value: 3.5266696955257544\n",
            "iteration: 84, current_state: [-0.32 -0.52], current_value: 3.5405046731351164\n",
            "iteration: 85, current_state: [-0.32 -0.53], current_value: 3.552541359537531\n",
            "iteration: 86, current_state: [-0.32 -0.54], current_value: 3.562716572945511\n",
            "iteration: 87, current_state: [-0.33 -0.54], current_value: 3.5863542930971097\n",
            "iteration: 88, current_state: [-0.34 -0.54], current_value: 3.607866025195174\n",
            "iteration: 89, current_state: [-0.34 -0.55], current_value: 3.617312787606082\n",
            "iteration: 90, current_state: [-0.34 -0.56], current_value: 3.624789278789058\n",
            "iteration: 91, current_state: [-0.34 -0.57], current_value: 3.6302363025680986\n",
            "iteration: 92, current_state: [-0.34 -0.58], current_value: 3.63359625345361\n",
            "iteration: 93, current_state: [-0.35 -0.58], current_value: 3.6554419836118086\n",
            "iteration: 94, current_state: [-0.35 -0.59], current_value: 3.657300884068709\n",
            "iteration: 95, current_state: [-0.36 -0.59], current_value: 3.6776533969881338\n",
            "iteration: 96, current_state: [-0.36 -0.6 ], current_value: 3.6779838429048453\n",
            "iteration: 97, current_state: [-0.37 -0.6 ], current_value: 3.6968472999395927\n",
            "iteration: 98, current_state: [-0.38 -0.6 ], current_value: 3.7135386733524856\n",
            "iteration: 99, current_state: [-0.39 -0.6 ], current_value: 3.7280383726618305\n",
            "iteration: 100, current_state: [-0.39 -0.61], current_value: 3.728207806913109\n",
            "iteration: 101, current_state: [-0.4  -0.61], current_value: 3.7412101910295092\n",
            "iteration: 102, current_state: [-0.41 -0.61], current_value: 3.752000100325595\n",
            "iteration: 103, current_state: [-0.42 -0.61], current_value: 3.7605662594843667\n",
            "iteration: 104, current_state: [-0.43 -0.61], current_value: 3.7669002732528423\n",
            "iteration: 105, current_state: [-0.44 -0.61], current_value: 3.770996620728709\n",
            "iteration: 106, current_state: [-0.45 -0.61], current_value: 3.772852644915758\n",
            "iteration: 107, current_state: [-0.45 -0.62], current_value: 3.7752396172240177\n",
            "iteration: 108, current_state: [-0.46 -0.62], current_value: 3.7756316536536967\n",
            "iteration: 109, current_state: [-0.46 -0.63], current_value: 3.7765735263649094\n",
            "Hill climbing solution is: [-0.46 -0.63]\n"
          ]
        }
      ]
    },
    {
      "cell_type": "markdown",
      "source": [
        "# Part B: Random Restart"
      ],
      "metadata": {
        "id": "PRVP59z50zVB"
      }
    },
    {
      "cell_type": "code",
      "source": [
        "# TODO: Improvement to the Hill-climbing search algorithm using random restarts\n",
        "#   objective function: function to be maximized\n",
        "#   lower_bounds: minimum allowable values for the input vector to the objective function\n",
        "#   upper_bounds: maximum allowable values for the input vector to the objective function\n",
        "#   step_size: numerical interval by which to change the current (x,y) state to generate a new neighboring state\n",
        "#   num_restarts: how many times to restart hill-climbing\n",
        "#   returns: best [x, y] solution found\n",
        "def random_restart_hill_climbing(objective_function, lower_bounds, upper_bounds, step_size=0.01, num_restarts=10):\n",
        "    best_solution = None\n",
        "    # initialize with the lowest possible value\n",
        "    best_value = -np.inf\n",
        "\n",
        "    for i in range(num_restarts):\n",
        "        # generate a random starting point within bounds\n",
        "        initial_state = np.random.uniform(lower_bounds, upper_bounds)\n",
        "\n",
        "        # run hill climbing from this random initial state\n",
        "        solution = hill_climbing(objective_function, initial_state, step_size, print_iters=False)\n",
        "        solution_value = objective_function(solution)\n",
        "\n",
        "        #print iterations\n",
        "        print(f\"restart: {i+1}, hill climbing solution: {solution}, value: {solution_value}\")\n",
        "\n",
        "        # update the best solution if this one is better\n",
        "        if solution_value > best_value:\n",
        "            best_solution = solution\n",
        "            best_value = solution_value\n",
        "\n",
        "\n",
        "    return best_solution"
      ],
      "metadata": {
        "id": "jQBNR3cszEIX"
      },
      "execution_count": 42,
      "outputs": []
    },
    {
      "cell_type": "code",
      "source": [
        "random_restart_solution = random_restart_hill_climbing(objective_function, lower_bounds, upper_bounds)\n",
        "print('Random restart hill climbing solution:', random_restart_solution)"
      ],
      "metadata": {
        "id": "Lp9Wlmve1P3Z",
        "colab": {
          "base_uri": "https://localhost:8080/"
        },
        "outputId": "35cb0e1b-bf6f-4491-8ce2-e97f01411d1c"
      },
      "execution_count": 43,
      "outputs": [
        {
          "output_type": "stream",
          "name": "stdout",
          "text": [
            "restart: 1, hill climbing solution: [ 1.28666921 -0.00421844], value: 3.592480784870229\n",
            "restart: 2, hill climbing solution: [ 1.28276764 -0.00884888], value: 3.592364078136922\n",
            "restart: 3, hill climbing solution: [-0.01327897  1.58252005], value: 8.106061939083094\n",
            "restart: 4, hill climbing solution: [-0.00935266  1.57712678], value: 8.105921883148858\n",
            "restart: 5, hill climbing solution: [ 1.28548213 -0.00476748], value: 3.5924895745587624\n",
            "restart: 6, hill climbing solution: [-0.01040584  1.58146276], value: 8.10620374307351\n",
            "restart: 7, hill climbing solution: [-0.00686061  1.58369298], value: 8.106079661615704\n",
            "restart: 8, hill climbing solution: [ 1.28319059 -0.0065125 ], value: 3.5924303894967324\n",
            "restart: 9, hill climbing solution: [-21.11968384  18.37736207], value: -1e-323\n",
            "restart: 10, hill climbing solution: [-0.46523366 -0.63412968], value: 3.776209925326438\n",
            "Random restart hill climbing solution: [-0.01040584  1.58146276]\n"
          ]
        }
      ]
    },
    {
      "cell_type": "markdown",
      "source": [
        "# Part C: Simulated Annealing"
      ],
      "metadata": {
        "id": "t7w7F1t_11OL"
      }
    },
    {
      "cell_type": "code",
      "source": [
        "# TODO: Simulated annealing algorithm\n",
        "#   objective function: function to be maximized\n",
        "#   lower_bounds: minimum allowable values for the input vector to the objective function\n",
        "#   upper_bounds: maximum allowable values for the input vector to the objective function\n",
        "#   returns: best [x, y] solution found\n",
        "\n",
        "def simulated_annealing(objective_function, lower_bounds, upper_bounds, initial_temp=1000, cooling_rate=0.99, min_temp=1e-3, step_size=0.1):\n",
        "    # initialize state randomly within bounds\n",
        "    current_state = np.random.uniform(lower_bounds, upper_bounds)\n",
        "    current_value = objective_function(current_state)\n",
        "\n",
        "    best_state = np.copy(current_state)\n",
        "    best_value = current_value\n",
        "    temperature = initial_temp\n",
        "\n",
        "    print_iter = 0\n",
        "    while temperature > min_temp:\n",
        "\n",
        "        print_iter += 1\n",
        "\n",
        "        # adding small rando steps\n",
        "        new_state = current_state + np.random.uniform(-step_size, step_size, size=len(lower_bounds))\n",
        "\n",
        "        # make sure in bounds\n",
        "        new_state = np.clip(new_state, lower_bounds, upper_bounds)\n",
        "        new_value = objective_function(new_state)\n",
        "\n",
        "        # compute change\n",
        "        delta = new_value - current_value\n",
        "\n",
        "        # accept new state if it's better or with probability based on temperature\n",
        "        if delta > 0 or np.random.rand() < np.exp(delta / temperature):\n",
        "            current_state, current_value = new_state, new_value\n",
        "\n",
        "            # update best found solution\n",
        "            if new_value > best_value:\n",
        "                best_state, best_value = new_state, new_value\n",
        "\n",
        "        #print iterations\n",
        "        #commented out to see better\n",
        "        #print(f\"iteration {print_iter}: temperature = {temperature:.4f}, current value = {current_value:.4f}, best value = {best_value:.4f}\")\n",
        "\n",
        "        # decrease temperature\n",
        "        temperature *= cooling_rate\n",
        "\n",
        "    return best_state"
      ],
      "metadata": {
        "id": "HIFKsujXxzvR"
      },
      "execution_count": 40,
      "outputs": []
    },
    {
      "cell_type": "code",
      "source": [
        "simulated_annealing_solution = simulated_annealing(objective_function, lower_bounds, upper_bounds)\n",
        "print('Simulated annealing solution is:', simulated_annealing_solution)"
      ],
      "metadata": {
        "id": "TvkxVtuz-XJM",
        "colab": {
          "base_uri": "https://localhost:8080/"
        },
        "outputId": "e8d97454-0863-463d-c4aa-7175efed572d"
      },
      "execution_count": 41,
      "outputs": [
        {
          "output_type": "stream",
          "name": "stdout",
          "text": [
            "Simulated annealing solution is: [ 2.07684707 -3.97303918]\n"
          ]
        }
      ]
    }
  ]
}